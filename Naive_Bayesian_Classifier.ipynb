{
  "nbformat": 4,
  "nbformat_minor": 0,
  "metadata": {
    "colab": {
      "provenance": []
    },
    "kernelspec": {
      "name": "python3",
      "display_name": "Python 3"
    },
    "language_info": {
      "name": "python"
    }
  },
  "cells": [
    {
      "cell_type": "code",
      "execution_count": 15,
      "metadata": {
        "id": "oYyQbYMSF9Xb"
      },
      "outputs": [],
      "source": [
        "import pandas as pd\n",
        "from sklearn import tree\n",
        "from sklearn.preprocessing import LabelEncoder\n",
        "from sklearn.naive_bayes import GaussianNB\n",
        "from sklearn.model_selection import train_test_split\n",
        "from sklearn.metrics import accuracy_score, confusion_matrix, classification_report"
      ]
    },
    {
      "cell_type": "code",
      "source": [
        "data = pd.read_csv(\"/content/tennis.csv\")\n",
        "print(\"The first 5 values of data is :\\n\\n\",data.head())"
      ],
      "metadata": {
        "id": "I2efO55KoNfh",
        "colab": {
          "base_uri": "https://localhost:8080/"
        },
        "outputId": "3772a783-1ab4-4f49-da75-3d6d1a265ba2"
      },
      "execution_count": 16,
      "outputs": [
        {
          "output_type": "stream",
          "name": "stdout",
          "text": [
            "The first 5 values of data is :\n",
            "\n",
            "     Outlook Temperature Humidity    Wind Play\n",
            "0     Sunny         Hot     High    Weak   No\n",
            "1     Sunny         Hot     High  Strong   No\n",
            "2  Overcast         Hot     High    Weak  Yes\n",
            "3      Rain        Mild     High    Weak  Yes\n",
            "4      Rain        Cool   Normal    Weak  Yes\n"
          ]
        }
      ]
    },
    {
      "cell_type": "markdown",
      "source": [
        "# Obtain Train data and Train output\n"
      ],
      "metadata": {
        "id": "sb-gYeFCwn1N"
      }
    },
    {
      "cell_type": "code",
      "source": [
        "X = data.iloc[:,:-1]\n",
        "print(\"\\nThe First 5 values of train data is\\n\",X.head())\n",
        "\n",
        "y = data.iloc[:,-1]\n",
        "print(\"\\nThe first 5 values of Train output is\\n\",y.head())"
      ],
      "metadata": {
        "colab": {
          "base_uri": "https://localhost:8080/"
        },
        "id": "qhWFB0zqwp2c",
        "outputId": "7594ffa5-8a0a-448e-f8ba-010fc3f1991b"
      },
      "execution_count": 17,
      "outputs": [
        {
          "output_type": "stream",
          "name": "stdout",
          "text": [
            "\n",
            "The First 5 values of train data is\n",
            "     Outlook Temperature Humidity    Wind\n",
            "0     Sunny         Hot     High    Weak\n",
            "1     Sunny         Hot     High  Strong\n",
            "2  Overcast         Hot     High    Weak\n",
            "3      Rain        Mild     High    Weak\n",
            "4      Rain        Cool   Normal    Weak\n",
            "\n",
            "The first 5 values of Train output is\n",
            " 0     No\n",
            "1     No\n",
            "2    Yes\n",
            "3    Yes\n",
            "4    Yes\n",
            "Name: Play, dtype: object\n"
          ]
        }
      ]
    },
    {
      "cell_type": "markdown",
      "source": [
        "# Convert categorical features to numeric using Label Encoding"
      ],
      "metadata": {
        "id": "tmpIEc-6xxFl"
      }
    },
    {
      "cell_type": "code",
      "source": [
        "le_outlook = LabelEncoder()\n",
        "X.Outlook = le_outlook.fit_transform(X.Outlook)\n",
        "\n",
        "le_temperature = LabelEncoder()\n",
        "X.Temperature = le_temperature.fit_transform(X.Temperature)\n",
        "\n",
        "le_humidity = LabelEncoder()\n",
        "X.Humidity = le_humidity.fit_transform(X.Humidity)\n",
        "\n",
        "le_windy = LabelEncoder()\n",
        "X.Wind = le_windy.fit_transform(X.Wind)\n",
        "\n",
        "# Output the transformed feature data\n",
        "print(\"\\nTransformed feature data (X):\\n\", X.head())\n",
        "\n",
        "# Convert the target variable to numeric\n",
        "le_playtennis = LabelEncoder()\n",
        "y = le_playtennis.fit_transform(y)\n",
        "\n",
        "# Output the transformed target data\n",
        "print(\"\\nTransformed target data (y):\\n\", y)\n",
        "\n",
        "\n",
        "\n",
        "\n"
      ],
      "metadata": {
        "colab": {
          "base_uri": "https://localhost:8080/"
        },
        "id": "U9giXhVyxkuM",
        "outputId": "720bd5d3-562d-4fbd-d2bb-991a0a97102e"
      },
      "execution_count": 18,
      "outputs": [
        {
          "output_type": "stream",
          "name": "stdout",
          "text": [
            "\n",
            "Transformed feature data (X):\n",
            "    Outlook  Temperature  Humidity  Wind\n",
            "0        2            1         0     1\n",
            "1        2            1         0     0\n",
            "2        0            1         0     1\n",
            "3        1            2         0     1\n",
            "4        1            0         1     1\n",
            "\n",
            "Transformed target data (y):\n",
            " [0 0 1 1 1 0 1 0 1 1 1 1 1 0]\n"
          ]
        },
        {
          "output_type": "stream",
          "name": "stderr",
          "text": [
            "<ipython-input-18-f48dd7d57eda>:2: SettingWithCopyWarning: \n",
            "A value is trying to be set on a copy of a slice from a DataFrame.\n",
            "Try using .loc[row_indexer,col_indexer] = value instead\n",
            "\n",
            "See the caveats in the documentation: https://pandas.pydata.org/pandas-docs/stable/user_guide/indexing.html#returning-a-view-versus-a-copy\n",
            "  X.Outlook = le_outlook.fit_transform(X.Outlook)\n",
            "<ipython-input-18-f48dd7d57eda>:5: SettingWithCopyWarning: \n",
            "A value is trying to be set on a copy of a slice from a DataFrame.\n",
            "Try using .loc[row_indexer,col_indexer] = value instead\n",
            "\n",
            "See the caveats in the documentation: https://pandas.pydata.org/pandas-docs/stable/user_guide/indexing.html#returning-a-view-versus-a-copy\n",
            "  X.Temperature = le_temperature.fit_transform(X.Temperature)\n",
            "<ipython-input-18-f48dd7d57eda>:8: SettingWithCopyWarning: \n",
            "A value is trying to be set on a copy of a slice from a DataFrame.\n",
            "Try using .loc[row_indexer,col_indexer] = value instead\n",
            "\n",
            "See the caveats in the documentation: https://pandas.pydata.org/pandas-docs/stable/user_guide/indexing.html#returning-a-view-versus-a-copy\n",
            "  X.Humidity = le_humidity.fit_transform(X.Humidity)\n",
            "<ipython-input-18-f48dd7d57eda>:11: SettingWithCopyWarning: \n",
            "A value is trying to be set on a copy of a slice from a DataFrame.\n",
            "Try using .loc[row_indexer,col_indexer] = value instead\n",
            "\n",
            "See the caveats in the documentation: https://pandas.pydata.org/pandas-docs/stable/user_guide/indexing.html#returning-a-view-versus-a-copy\n",
            "  X.Wind = le_windy.fit_transform(X.Wind)\n"
          ]
        }
      ]
    },
    {
      "cell_type": "markdown",
      "source": [
        "# Split the data into training and testing sets (80% train, 20% test)"
      ],
      "metadata": {
        "id": "EsOgY5Rox7E8"
      }
    },
    {
      "cell_type": "code",
      "source": [
        "X_train, X_test, y_train, y_test = train_test_split(X, y, test_size=0.20, random_state=42)\n",
        "\n",
        "# Initialize the Naive Bayes classifier\n",
        "classifier = GaussianNB()\n",
        "\n",
        "# Train the classifier on the training data\n",
        "classifier.fit(X_train, y_train)\n",
        "\n",
        "# Make predictions on the test data\n",
        "y_pred = classifier.predict(X_test)\n",
        "\n",
        "# Evaluate the classifier's performance\n",
        "accuracy = accuracy_score(y_test, y_pred)\n",
        "print(f\"\\nAccuracy of the Naive Bayes classifier: {accuracy * 100:.2f}%\")\n",
        "\n",
        "# Print confusion matrix and classification report for more detailed analysis\n",
        "print(\"\\nConfusion Matrix:\\n\", confusion_matrix(y_test, y_pred))\n",
        "print(\"\\nClassification Report:\\n\", classification_report(y_test, y_pred))"
      ],
      "metadata": {
        "colab": {
          "base_uri": "https://localhost:8080/"
        },
        "id": "J44Kq0W-x5oc",
        "outputId": "fa6638e9-5866-4fdc-d926-7b78e5cb5d26"
      },
      "execution_count": 19,
      "outputs": [
        {
          "output_type": "stream",
          "name": "stdout",
          "text": [
            "\n",
            "Accuracy of the Naive Bayes classifier: 100.00%\n",
            "\n",
            "Confusion Matrix:\n",
            " [[1 0]\n",
            " [0 2]]\n",
            "\n",
            "Classification Report:\n",
            "               precision    recall  f1-score   support\n",
            "\n",
            "           0       1.00      1.00      1.00         1\n",
            "           1       1.00      1.00      1.00         2\n",
            "\n",
            "    accuracy                           1.00         3\n",
            "   macro avg       1.00      1.00      1.00         3\n",
            "weighted avg       1.00      1.00      1.00         3\n",
            "\n"
          ]
        }
      ]
    }
  ]
}