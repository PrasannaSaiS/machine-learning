{
  "nbformat": 4,
  "nbformat_minor": 0,
  "metadata": {
    "colab": {
      "provenance": []
    },
    "kernelspec": {
      "name": "python3",
      "display_name": "Python 3"
    },
    "language_info": {
      "name": "python"
    }
  },
  "cells": [
    {
      "cell_type": "markdown",
      "source": [
        "### **ID3 Algorithm**"
      ],
      "metadata": {
        "id": "RatGndw_o7S2"
      }
    },
    {
      "cell_type": "markdown",
      "source": [
        "**Import necessary modules:**"
      ],
      "metadata": {
        "id": "mV0d0QBFnSw8"
      }
    },
    {
      "cell_type": "code",
      "source": [
        "import numpy as np\n",
        "import math\n",
        "import csv"
      ],
      "metadata": {
        "id": "HJeRikOwni38"
      },
      "execution_count": 5,
      "outputs": []
    },
    {
      "cell_type": "markdown",
      "source": [
        "**Creation of Algorithmic Functions:**"
      ],
      "metadata": {
        "id": "ynVzjz2Cnlfs"
      }
    },
    {
      "cell_type": "code",
      "source": [
        "def read_data(filename):\n",
        "    with open(filename, 'r') as file:\n",
        "        reader = csv.reader(file)\n",
        "        headers = next(reader)\n",
        "        data = [row for row in reader]\n",
        "    return headers, np.array(data)"
      ],
      "metadata": {
        "id": "B4bdp-OOoF5M"
      },
      "execution_count": 4,
      "outputs": []
    },
    {
      "cell_type": "code",
      "source": [
        "class Node:\n",
        "    def __init__(self, attribute=\"\", answer=\"\"):\n",
        "        self.attribute = attribute\n",
        "        self.answer = answer\n",
        "        self.children = []\n",
        "\n",
        "def entropy(S):\n",
        "    unique_vals, counts = np.unique(S, return_counts=True)\n",
        "    probs = counts / len(S)\n",
        "    return -np.sum(probs * np.log2(probs))\n",
        "\n",
        "def gain_ratio(data, col):\n",
        "    total_entropy = entropy(data[:, -1])\n",
        "    values, subsets = {}, np.unique(data[:, col])\n",
        "    for value in subsets:\n",
        "        subset = data[data[:, col] == value]\n",
        "        values[value] = subset\n",
        "    weighted_entropy = sum((len(v) / len(data)) * entropy(v[:, -1]) for v in values.values())\n",
        "    intrinsic_value = -sum((len(v) / len(data)) * math.log2(len(v) / len(data)) for v in values.values())\n",
        "    return (total_entropy - weighted_entropy) / intrinsic_value if intrinsic_value != 0 else 0\n"
      ],
      "metadata": {
        "id": "JUinQ67UotIt"
      },
      "execution_count": 6,
      "outputs": []
    },
    {
      "cell_type": "markdown",
      "source": [
        "**Create Node**"
      ],
      "metadata": {
        "id": "Qe5YrhtOoUKF"
      }
    },
    {
      "cell_type": "code",
      "source": [
        "def create_node(data, headers):\n",
        "    if len(np.unique(data[:, -1])) == 1:  # If all instances have the same label\n",
        "        return Node(answer=np.unique(data[:, -1])[0])\n",
        "\n",
        "    gains = [gain_ratio(data, i) for i in range(data.shape[1] - 1)]\n",
        "    best_col = np.argmax(gains)\n",
        "    node = Node(attribute=headers[best_col])\n",
        "\n",
        "    headers = np.delete(headers, best_col)\n",
        "    for value in np.unique(data[:, best_col]):\n",
        "        subset = data[data[:, best_col] == value]\n",
        "        child_node = create_node(subset, headers)\n",
        "        node.children.append((value, child_node))\n",
        "\n",
        "    return node\n"
      ],
      "metadata": {
        "id": "eIEMrQjroxUU"
      },
      "execution_count": 7,
      "outputs": []
    },
    {
      "cell_type": "markdown",
      "source": [
        "**Print Tree**"
      ],
      "metadata": {
        "id": "HLDqnpQ2o6yE"
      }
    },
    {
      "cell_type": "code",
      "source": [
        "def print_tree(node, depth=0):\n",
        "    if node.answer:\n",
        "        print(\"  \" * depth + node.answer)\n",
        "    else:\n",
        "        print(\"  \" * depth + node.attribute)\n",
        "        for value, child in node.children:\n",
        "            print(\"  \" * (depth + 1) + str(value))\n",
        "            print_tree(child, depth + 2)\n"
      ],
      "metadata": {
        "id": "y2X8_2N7pdG8"
      },
      "execution_count": 8,
      "outputs": []
    },
    {
      "cell_type": "markdown",
      "source": [
        "**Main Execution**"
      ],
      "metadata": {
        "id": "mAu8EdP_o14k"
      }
    },
    {
      "cell_type": "code",
      "source": [
        "headers, data = read_data(\"/content/drive/MyDrive/Tennisdata.csv\")\n",
        "tree = create_node(data, headers)\n",
        "print_tree(tree)"
      ],
      "metadata": {
        "colab": {
          "base_uri": "https://localhost:8080/"
        },
        "id": "uMRk7JJQplB2",
        "outputId": "b47ebcf8-16d1-4adc-91a4-5f262b9155df"
      },
      "execution_count": 10,
      "outputs": [
        {
          "output_type": "stream",
          "name": "stdout",
          "text": [
            "Outlook\n",
            "  Overcast\n",
            "    Yes\n",
            "  Rain\n",
            "    Play Tennis\n",
            "      Strong\n",
            "        No\n",
            "      Weak\n",
            "        Yes\n",
            "  Sunny\n",
            "    Wind\n",
            "      High\n",
            "        No\n",
            "      Normal\n",
            "        Yes\n"
          ]
        }
      ]
    }
  ]
}