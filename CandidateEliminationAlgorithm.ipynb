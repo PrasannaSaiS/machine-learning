{
  "cells": [
    {
      "cell_type": "code",
      "execution_count": 22,
      "id": "95f54a0b",
      "metadata": {
        "scrolled": true,
        "id": "95f54a0b",
        "outputId": "2ca57629-8b98-48f2-bca6-cd1c0f6bff0b",
        "colab": {
          "base_uri": "https://localhost:8080/"
        }
      },
      "outputs": [
        {
          "output_type": "stream",
          "name": "stdout",
          "text": [
            "     sky airtemp humidity    wind water forcast enjoysport\n",
            "0  sunny    warm   normal  strong  warm    same        yes\n",
            "1  sunny    warm     high  strong  warm    same        yes\n",
            "2  rainy    cold     high  strong  warm  change         no\n",
            "3  sunny    warm     high  strong  cool  change        yes\n"
          ]
        }
      ],
      "source": [
        "import numpy as np\n",
        "import pandas as pd\n",
        "\n",
        "# Load the data\n",
        "data = pd.DataFrame(data=pd.read_csv('/enjoysport.csv'))\n",
        "print(data)"
      ]
    },
    {
      "cell_type": "code",
      "execution_count": 23,
      "id": "2e7eea06",
      "metadata": {
        "id": "2e7eea06",
        "outputId": "8a9aaf1c-d551-4a88-e235-dea59af7f1fc",
        "colab": {
          "base_uri": "https://localhost:8080/"
        }
      },
      "outputs": [
        {
          "output_type": "stream",
          "name": "stdout",
          "text": [
            "Target: ['yes' 'yes' 'no' 'yes']\n",
            "Concepts: [['sunny' 'warm' 'normal' 'strong' 'warm' 'same']\n",
            " ['sunny' 'warm' 'high' 'strong' 'warm' 'same']\n",
            " ['rainy' 'cold' 'high' 'strong' 'warm' 'change']\n",
            " ['sunny' 'warm' 'high' 'strong' 'cool' 'change']]\n"
          ]
        }
      ],
      "source": [
        "# Split the data into concepts and target variables\n",
        "concept = np.array(data.iloc[:, 0:-1])\n",
        "target = np.array(data.iloc[:, -1])\n",
        "print(\"Target:\", target)\n",
        "print(\"Concepts:\", concept)\n",
        "\n"
      ]
    },
    {
      "cell_type": "code",
      "execution_count": 24,
      "id": "db748488",
      "metadata": {
        "id": "db748488",
        "outputId": "3c8ad2dd-dfa6-4632-c0f4-f471dd81764e",
        "colab": {
          "base_uri": "https://localhost:8080/"
        }
      },
      "outputs": [
        {
          "output_type": "stream",
          "name": "stdout",
          "text": [
            "Initialization of specific_h and general_h\n",
            "General_h initialized:  [['?', '?', '?', '?', '?', '?'], ['?', '?', '?', '?', '?', '?'], ['?', '?', '?', '?', '?', '?'], ['?', '?', '?', '?', '?', '?'], ['?', '?', '?', '?', '?', '?'], ['?', '?', '?', '?', '?', '?']]\n",
            "Concepts:  [['sunny' 'warm' 'normal' 'strong' 'warm' 'same']\n",
            " ['sunny' 'warm' 'high' 'strong' 'warm' 'same']\n",
            " ['rainy' 'cold' 'high' 'strong' 'warm' 'change']\n",
            " ['sunny' 'warm' 'high' 'strong' 'cool' 'change']]\n",
            "\n",
            "Step 1\n",
            "Specific_h:  ['sunny' 'warm' 'normal' 'strong' 'warm' 'same']\n",
            "General_h:  [['?', '?', '?', '?', '?', '?'], ['?', '?', '?', '?', '?', '?'], ['?', '?', '?', '?', '?', '?'], ['?', '?', '?', '?', '?', '?'], ['?', '?', '?', '?', '?', '?'], ['?', '?', '?', '?', '?', '?']]\n",
            "\n",
            "Step 2\n",
            "Specific_h:  ['sunny' 'warm' '?' 'strong' 'warm' 'same']\n",
            "General_h:  [['?', '?', '?', '?', '?', '?'], ['?', '?', '?', '?', '?', '?'], ['?', '?', '?', '?', '?', '?'], ['?', '?', '?', '?', '?', '?'], ['?', '?', '?', '?', '?', '?'], ['?', '?', '?', '?', '?', '?']]\n",
            "\n",
            "Step 3\n",
            "Specific_h:  ['sunny' 'warm' '?' 'strong' 'warm' 'same']\n",
            "General_h:  [['sunny', '?', '?', '?', '?', '?'], ['?', 'warm', '?', '?', '?', '?'], ['?', '?', '?', '?', '?', '?'], ['?', '?', '?', '?', '?', '?'], ['?', '?', '?', '?', '?', '?'], ['?', '?', '?', '?', '?', 'same']]\n",
            "\n",
            "Step 4\n",
            "Specific_h:  ['sunny' 'warm' '?' 'strong' '?' '?']\n",
            "General_h:  [['sunny', '?', '?', '?', '?', '?'], ['?', 'warm', '?', '?', '?', '?'], ['?', '?', '?', '?', '?', '?'], ['?', '?', '?', '?', '?', '?'], ['?', '?', '?', '?', '?', '?'], ['?', '?', '?', '?', '?', '?']]\n",
            "\n",
            "Final Specific_h:  ['sunny' 'warm' '?' 'strong' '?' '?']\n",
            "Final General_h:  [['sunny', '?', '?', '?', '?', '?'], ['?', 'warm', '?', '?', '?', '?']]\n",
            "\n",
            "Final Specific_h: \n",
            "['sunny' 'warm' '?' 'strong' '?' '?']\n",
            "Final General_h: \n",
            "[['sunny', '?', '?', '?', '?', '?'], ['?', 'warm', '?', '?', '?', '?']]\n"
          ]
        }
      ],
      "source": [
        "\n",
        "# Candidate Elimination Algorithm\n",
        "def learn(concepts, target):\n",
        "    # Initialize specific_h to the first concept\n",
        "    specific_h = concepts[0].copy()\n",
        "    print(\"Initialization of specific_h and general_h\")\n",
        "\n",
        "    # Initialize general_h with '?' in every position\n",
        "    general_h = [['?' for _ in range(len(specific_h))] for _ in range(len(specific_h))]\n",
        "    print(\"General_h initialized: \", general_h)\n",
        "    print(\"Concepts: \", concepts)\n",
        "\n",
        "    # Iterate over all the concepts\n",
        "    for i, h in enumerate(concepts):\n",
        "        if target[i] == \"yes\":\n",
        "            # If the target is \"yes\", generalize specific_h\n",
        "            for x in range(len(specific_h)):\n",
        "                if h[x] != specific_h[x]:\n",
        "                    specific_h[x] = \"?\"\n",
        "                    general_h[x][x] = \"?\"\n",
        "        elif target[i] == \"no\":\n",
        "            # If the target is \"no\", specialize general_h\n",
        "            for x in range(len(specific_h)):\n",
        "                if h[x] != specific_h[x]:\n",
        "                    general_h[x][x] = specific_h[x]\n",
        "                else:\n",
        "                    general_h[x][x] = \"?\"\n",
        "\n",
        "        print(f\"\\nStep {i + 1}\")\n",
        "        print(\"Specific_h: \", specific_h)\n",
        "        print(\"General_h: \", general_h)\n",
        "\n",
        "    # Remove the redundant hypothesis (if all '?' are present in any hypothesis)\n",
        "    general_h = [h for h in general_h if h != ['?', '?', '?', '?', '?', '?']]\n",
        "\n",
        "    print(\"\\nFinal Specific_h: \", specific_h)\n",
        "    print(\"Final General_h: \", general_h)\n",
        "\n",
        "    return specific_h, general_h\n",
        "\n",
        "# Run the learning algorithm\n",
        "s_final, g_final = learn(concept, target)\n",
        "\n",
        "# Print the final specific and general hypotheses\n",
        "print(\"\\nFinal Specific_h: \", s_final, sep=\"\\n\")\n",
        "print(\"Final General_h: \", g_final, sep=\"\\n\")\n"
      ]
    },
    {
      "cell_type": "code",
      "execution_count": null,
      "id": "be7521fb",
      "metadata": {
        "id": "be7521fb"
      },
      "outputs": [],
      "source": []
    },
    {
      "cell_type": "code",
      "execution_count": null,
      "id": "b8f5463f",
      "metadata": {
        "id": "b8f5463f"
      },
      "outputs": [],
      "source": []
    }
  ],
  "metadata": {
    "kernelspec": {
      "display_name": "Python 3 (ipykernel)",
      "language": "python",
      "name": "python3"
    },
    "language_info": {
      "codemirror_mode": {
        "name": "ipython",
        "version": 3
      },
      "file_extension": ".py",
      "mimetype": "text/x-python",
      "name": "python",
      "nbconvert_exporter": "python",
      "pygments_lexer": "ipython3",
      "version": "3.9.12"
    },
    "colab": {
      "provenance": []
    }
  },
  "nbformat": 4,
  "nbformat_minor": 5
}