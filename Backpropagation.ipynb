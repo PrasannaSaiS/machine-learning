{
  "nbformat": 4,
  "nbformat_minor": 0,
  "metadata": {
    "colab": {
      "provenance": []
    },
    "kernelspec": {
      "name": "python3",
      "display_name": "Python 3"
    },
    "language_info": {
      "name": "python"
    }
  },
  "cells": [
    {
      "cell_type": "markdown",
      "source": [
        "## **Implementation of Backpropagation Algorithm to Build an Artificial Neural Network**"
      ],
      "metadata": {
        "id": "9Nl3jJhLzqf1"
      }
    },
    {
      "cell_type": "markdown",
      "source": [
        "Importing required libraries"
      ],
      "metadata": {
        "id": "w92eRZL00u6G"
      }
    },
    {
      "cell_type": "code",
      "execution_count": 1,
      "metadata": {
        "id": "qnPtEjofy6tE"
      },
      "outputs": [],
      "source": [
        "from math import exp\n",
        "from random import seed\n",
        "from random import random"
      ]
    },
    {
      "cell_type": "markdown",
      "source": [
        "Initializing the network"
      ],
      "metadata": {
        "id": "JD-TNV2l08_M"
      }
    },
    {
      "cell_type": "code",
      "source": [
        "def initialize_network(n_inputs, n_hidden, n_outputs):\n",
        "    network = list()\n",
        "\n",
        "    hidden_layer = [{'weights': [random() for _ in range(n_inputs + 1)]} for _ in range(n_hidden)]\n",
        "    network.append(hidden_layer)\n",
        "\n",
        "    output_layer = [{'weights': [random() for _ in range(n_hidden + 1)]} for _ in range(n_outputs)]\n",
        "    network.append(output_layer)\n",
        "    return network\n"
      ],
      "metadata": {
        "id": "LiNePjSp1Bod"
      },
      "execution_count": 2,
      "outputs": []
    },
    {
      "cell_type": "markdown",
      "source": [
        "Activation function"
      ],
      "metadata": {
        "id": "jBwJZCBu1HjM"
      }
    },
    {
      "cell_type": "code",
      "source": [
        "def activate(weights, inputs):\n",
        "    activation = weights[-1]\n",
        "    for i in range(len(weights) - 1):\n",
        "        activation += weights[i] * inputs[i]\n",
        "    return activation"
      ],
      "metadata": {
        "id": "qUagROCj1UqV"
      },
      "execution_count": 3,
      "outputs": []
    },
    {
      "cell_type": "markdown",
      "source": [
        "Transfer function (Sigmoid)"
      ],
      "metadata": {
        "id": "YC6hoy-O18Kd"
      }
    },
    {
      "cell_type": "code",
      "source": [
        "def transfer(activation):\n",
        "    return 1.0 / (1.0 + exp(-activation))"
      ],
      "metadata": {
        "id": "F2f5BhjM1_41"
      },
      "execution_count": 4,
      "outputs": []
    },
    {
      "cell_type": "markdown",
      "source": [
        "Forward propagation"
      ],
      "metadata": {
        "id": "kOEhROKt2GGt"
      }
    },
    {
      "cell_type": "code",
      "source": [
        "def forward_propagate(network, row):\n",
        "    inputs = row\n",
        "    for layer in network:\n",
        "        new_inputs = []\n",
        "        for neuron in layer:\n",
        "            activation = activate(neuron['weights'], inputs)\n",
        "            neuron['output'] = transfer(activation)\n",
        "            new_inputs.append(neuron['output'])\n",
        "        inputs = new_inputs\n",
        "    return inputs"
      ],
      "metadata": {
        "id": "30hqkHP12Ggd"
      },
      "execution_count": 5,
      "outputs": []
    },
    {
      "cell_type": "markdown",
      "source": [
        "Transfer function derivative"
      ],
      "metadata": {
        "id": "U-inDqnA2Qv1"
      }
    },
    {
      "cell_type": "code",
      "source": [
        "def transfer_derivative(output):\n",
        "    return output * (1.0 - output)"
      ],
      "metadata": {
        "id": "EQ1pZsrR2RFF"
      },
      "execution_count": 6,
      "outputs": []
    },
    {
      "cell_type": "markdown",
      "source": [
        "Backward Propagation of Error"
      ],
      "metadata": {
        "id": "n6v-TbgM2awN"
      }
    },
    {
      "cell_type": "code",
      "source": [
        "def backward_propagate_error(network, expected):\n",
        "    for i in reversed(range(len(network))):\n",
        "        layer = network[i]\n",
        "        errors = list()\n",
        "        if i != len(network) - 1:\n",
        "            for j in range(len(layer)):\n",
        "                error = 0.0\n",
        "                for neuron in network[i + 1]:\n",
        "                    error += (neuron['weights'][j] * neuron['delta'])\n",
        "                errors.append(error)\n",
        "        else:\n",
        "            for j in range(len(layer)):\n",
        "                neuron = layer[j]\n",
        "                errors.append(neuron['output'] - expected[j])\n",
        "        for j in range(len(layer)):\n",
        "            neuron = layer[j]\n",
        "            neuron['delta'] = errors[j] * transfer_derivative(neuron['output'])"
      ],
      "metadata": {
        "id": "2VfKFwBj2hz-"
      },
      "execution_count": 7,
      "outputs": []
    },
    {
      "cell_type": "markdown",
      "source": [
        "Update weights"
      ],
      "metadata": {
        "id": "GyOhxQWz2l59"
      }
    },
    {
      "cell_type": "code",
      "source": [
        "def update_weights(network, row, l_rate):\n",
        "    for i in range(len(network)):\n",
        "        inputs = row[:-1]\n",
        "        if i != 0:\n",
        "            inputs = [neuron['output'] for neuron in network[i - 1]]\n",
        "        for neuron in network[i]:\n",
        "            for j in range(len(inputs)):\n",
        "                neuron['weights'][j] -= l_rate * neuron['delta'] * inputs[j]\n",
        "            neuron['weights'][-1] -= l_rate * neuron['delta']"
      ],
      "metadata": {
        "id": "SNojuFRD2qXl"
      },
      "execution_count": 8,
      "outputs": []
    },
    {
      "cell_type": "markdown",
      "source": [
        "Training the network"
      ],
      "metadata": {
        "id": "DFyZ6GoR2vSF"
      }
    },
    {
      "cell_type": "code",
      "source": [
        "def train_network(network, train, l_rate, n_epoch, n_outputs):\n",
        "    for epoch in range(n_epoch):\n",
        "        sum_error = 0\n",
        "        for row in train:\n",
        "            outputs = forward_propagate(network, row)\n",
        "            expected = [0 for _ in range(n_outputs)]\n",
        "            expected[row[-1]] = 1\n",
        "            sum_error += sum([(expected[i] - outputs[i])**2 for i in range(len(expected))])\n",
        "            backward_propagate_error(network, expected)\n",
        "            update_weights(network, row, l_rate)\n",
        "        print('>epoch=%d, lrate=%.3f, error=%.3f' % (epoch, l_rate, sum_error))"
      ],
      "metadata": {
        "id": "t_zw_7-R2xYd"
      },
      "execution_count": 9,
      "outputs": []
    },
    {
      "cell_type": "markdown",
      "source": [
        "Testing the network"
      ],
      "metadata": {
        "id": "okfmRdWJ21z9"
      }
    },
    {
      "cell_type": "code",
      "source": [
        "seed(1)\n",
        "dataset = [\n",
        "    [2.7810836, 2.550537003, 0],\n",
        "    [1.465489372, 2.362125076, 0],\n",
        "    [3.396561688, 4.400293529, 0],\n",
        "    [1.38807019, 1.850220317, 0],\n",
        "    [3.06407232, 3.005305973, 0],\n",
        "    [7.627531214, 2.759262235, 1],\n",
        "    [5.332441248, 2.088626775, 1],\n",
        "    [6.922596716, 1.77106367, 1],\n",
        "    [8.675418651, -0.242068655, 1],\n",
        "    [7.673756466, 3.508563011, 1]\n",
        "]\n",
        "\n",
        "n_inputs = len(dataset[0]) - 1\n",
        "n_outputs = len(set([row[-1] for row in dataset]))\n",
        "\n",
        "network = initialize_network(n_inputs, 2, n_outputs)\n",
        "train_network(network, dataset, 0.5, 20, n_outputs)\n",
        "for layer in network:\n",
        "    print(layer)\n"
      ],
      "metadata": {
        "colab": {
          "base_uri": "https://localhost:8080/"
        },
        "id": "XQeWiYvE24wF",
        "outputId": "0b9e6791-a392-4b3d-a22b-38e6fc27de20"
      },
      "execution_count": 10,
      "outputs": [
        {
          "output_type": "stream",
          "name": "stdout",
          "text": [
            ">epoch=0, lrate=0.500, error=6.350\n",
            ">epoch=1, lrate=0.500, error=5.531\n",
            ">epoch=2, lrate=0.500, error=5.221\n",
            ">epoch=3, lrate=0.500, error=4.951\n",
            ">epoch=4, lrate=0.500, error=4.519\n",
            ">epoch=5, lrate=0.500, error=4.173\n",
            ">epoch=6, lrate=0.500, error=3.835\n",
            ">epoch=7, lrate=0.500, error=3.506\n",
            ">epoch=8, lrate=0.500, error=3.192\n",
            ">epoch=9, lrate=0.500, error=2.898\n",
            ">epoch=10, lrate=0.500, error=2.626\n",
            ">epoch=11, lrate=0.500, error=2.377\n",
            ">epoch=12, lrate=0.500, error=2.153\n",
            ">epoch=13, lrate=0.500, error=1.953\n",
            ">epoch=14, lrate=0.500, error=1.774\n",
            ">epoch=15, lrate=0.500, error=1.614\n",
            ">epoch=16, lrate=0.500, error=1.472\n",
            ">epoch=17, lrate=0.500, error=1.346\n",
            ">epoch=18, lrate=0.500, error=1.233\n",
            ">epoch=19, lrate=0.500, error=1.132\n",
            "[{'weights': [-1.4688375095432327, 1.850887325439514, 1.0858178629550297], 'output': 0.029980305604426185, 'delta': 0.0059546604162323625}, {'weights': [0.37711098142462157, -0.0625909894552989, 0.2765123702642716], 'output': 0.9456229000211323, 'delta': -0.0026279652850863837}]\n",
            "[{'weights': [2.515394649397849, -0.3391927502445985, -0.9671565426390275], 'output': 0.23648794202357587, 'delta': 0.04270059278364587}, {'weights': [-2.5584149848484263, 1.0036422106209202, 0.42383086467582715], 'output': 0.7790535202438367, 'delta': -0.03803132596437354}]\n"
          ]
        }
      ]
    }
  ]
}